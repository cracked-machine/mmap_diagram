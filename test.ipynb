{
 "cells": [
  {
   "cell_type": "code",
   "execution_count": 5,
   "metadata": {},
   "outputs": [
    {
     "data": {
      "text/plain": [
       "4"
      ]
     },
     "execution_count": 5,
     "metadata": {},
     "output_type": "execute_result"
    }
   ],
   "source": [
    "from fractions import Fraction\n",
    "from math import floor, ceil\n",
    "\n",
    "f = Fraction(0.75)\n",
    "f.denominator\n",
    "\n",
    "\n"
   ]
  },
  {
   "cell_type": "code",
   "execution_count": 78,
   "metadata": {},
   "outputs": [
    {
     "name": "stdout",
     "output_type": "stream",
     "text": [
      "long name that never ends                0x64        \n",
      "shot name                                0x3635C9ADC5DEA00000\n",
      "20\n"
     ]
    }
   ],
   "source": [
    "h = 100\n",
    "i = 1000000000000000000000\n",
    "h2 = f\"0x{i:X}\"\n",
    "print(f\"{'long name that never ends':40} 0x{h:<10X}\")\n",
    "print(f\"{'shot name':40} 0x{i:<10X}\")\n",
    "print(len(h2))"
   ]
  },
  {
   "cell_type": "code",
   "execution_count": null,
   "metadata": {},
   "outputs": [],
   "source": []
  },
  {
   "cell_type": "code",
   "execution_count": null,
   "metadata": {},
   "outputs": [],
   "source": []
  },
  {
   "cell_type": "code",
   "execution_count": 9,
   "metadata": {},
   "outputs": [
    {
     "data": {
      "text/plain": [
       "'-0'"
      ]
     },
     "execution_count": 9,
     "metadata": {},
     "output_type": "execute_result"
    }
   ],
   "source": [
    "\n",
    "\n",
    "import re\n",
    "\n",
    "s = '-0'\n",
    "re.sub(r'-(?![0-9])', '', s)"
   ]
  },
  {
   "cell_type": "code",
   "execution_count": 61,
   "metadata": {},
   "outputs": [
    {
     "name": "stdout",
     "output_type": "stream",
     "text": [
      "[]\n",
      "[10]\n",
      "[10, 11]\n",
      "[]\n",
      "[21]\n",
      "[]\n",
      "[30]\n",
      "[30, 31]\n",
      "[30, 31, 32]\n",
      "[30, 31, 32, 33]\n",
      "[]\n",
      "[30, 31, 32, 33, 34]\n",
      "LockableDictList(<class 'list'>, {1: [10, 11, 12], 2: [21, 22], 3: [30, 31, 32, 33, 34, 666]})\n"
     ]
    }
   ],
   "source": [
    "import collections \n",
    "\n",
    "class LockableDictList(collections.defaultdict):\n",
    "    def __init__(self):\n",
    "        self._lock = False\n",
    "        super(LockableDictList, self).__init__(list,)\n",
    "\n",
    "    def lock(self):\n",
    "        self._lock = True\n",
    "    \n",
    "    def __setitem__(self, __key: any, __value: any) -> None:\n",
    "        if self._lock:\n",
    "            return\n",
    "        return super().__setitem__(__key, __value)\n",
    "    \n",
    "d = LockableDictList()\n",
    "\n",
    "d[1].append(10)\n",
    "d[1].append(11)\n",
    "d[1].append(12)\n",
    "\n",
    "d[2].append(21)\n",
    "d[2].append(22)\n",
    "\n",
    "d[3].append(30)\n",
    "d[3].append(31)\n",
    "d[3].append(32)\n",
    "d[3].append(33)\n",
    "d[3].append(34)\n",
    "\n",
    "d.lock()\n",
    "\n",
    "d[4].append(4)\n",
    "d[3].append(666)\n",
    "\n",
    "\n",
    "\n",
    "print(d)"
   ]
  },
  {
   "cell_type": "code",
   "execution_count": 66,
   "metadata": {},
   "outputs": [
    {
     "name": "stdout",
     "output_type": "stream",
     "text": [
      "25\n",
      "so                        long\n"
     ]
    }
   ],
   "source": [
    "class t:\n",
    "    def __init__(self, a:str):\n",
    "        self.a: str = a\n",
    "\n",
    "l = [t(\"oneoneonedddddddddddddone\"), t(\"three\")]\n",
    "print(max(len(node.a) for node in l))\n",
    "m = max(len(node.a) for node in l)\n",
    "b = f\"{'so':{m}} long\"\n",
    "print(b)"
   ]
  },
  {
   "cell_type": "code",
   "execution_count": 50,
   "metadata": {},
   "outputs": [
    {
     "name": "stdout",
     "output_type": "stream",
     "text": [
      "0.34500\n"
     ]
    }
   ],
   "source": [
    "n = 5\n",
    "value = 0.345\n",
    "print(f'{value:.{n}f}') "
   ]
  },
  {
   "cell_type": "code",
   "execution_count": 24,
   "metadata": {},
   "outputs": [
    {
     "name": "stdout",
     "output_type": "stream",
     "text": [
      "Bbox(left=1, top=2, right=3, bottom=4)\n",
      "3\n",
      "(1, 2, 3, 4)\n"
     ]
    }
   ],
   "source": [
    "import dataclasses\n",
    "\n",
    "@dataclasses.dataclass\n",
    "class Bbox:\n",
    "    \n",
    "    left: int\n",
    "    top: int\n",
    "    right: int\n",
    "    bottom: int\n",
    "\n",
    "    def __init__(self, args):\n",
    "        \n",
    "        self.left = args[0]\n",
    "        self.top = args[1]\n",
    "        self.right = args[2]\n",
    "        self.bottom = args[3]\n",
    "    def tuple(self):\n",
    "        return (self.left, self.top, self.right, self.bottom)\n",
    "    \n",
    "    \n",
    "data = (1,2,3,4)\n",
    "b = Bbox(data)\n",
    "\n",
    "print(b)\n",
    "print(b.right)\n",
    "print(b.tuple())\n",
    "\n"
   ]
  },
  {
   "cell_type": "code",
   "execution_count": 11,
   "metadata": {},
   "outputs": [
    {
     "name": "stdout",
     "output_type": "stream",
     "text": [
      "[['one', '0x10 (16)'], ['two', '0x0 (0)'], ['three', '0x50 (80)'], ['four', '0xa (10)']]\n",
      "[['two', '0x0 (0)'], ['four', '0xa (10)'], ['one', '0x10 (16)'], ['three', '0x50 (80)']]\n"
     ]
    }
   ],
   "source": [
    "col = 1\n",
    "l1 = [\"one\", \"0x10 (16)\"]\n",
    "l2 = [\"two\", \"0x0 (0)\"]\n",
    "l3 = [\"three\", \"0x50 (80)\"]\n",
    "l4 = [\"four\", \"0xa (10)\"]\n",
    "l = [l1,l2,l3,l4]\n",
    "print(l)\n",
    "l.sort(key=lambda x: int(x[col][ x[col].index('(') + 1 : x[col].index(')') ]), reverse=False)\n",
    "print(l)"
   ]
  },
  {
   "cell_type": "code",
   "execution_count": 27,
   "metadata": {},
   "outputs": [
    {
     "data": {
      "text/plain": [
       "'10'"
      ]
     },
     "execution_count": 27,
     "metadata": {},
     "output_type": "execute_result"
    }
   ],
   "source": [
    "import re\n",
    "s = \"0x0 (10)\"\n",
    "\n",
    "re.search(\"\\((.*)\\)\", s).group(0)\n",
    "re.findall(\"\\((.*)\\)\", s)[0]"
   ]
  },
  {
   "cell_type": "code",
   "execution_count": 12,
   "metadata": {},
   "outputs": [
    {
     "name": "stdout",
     "output_type": "stream",
     "text": [
      "FF\n",
      "0xFF\n"
     ]
    }
   ],
   "source": [
    "\n",
    "h = \"0xff\"\n",
    "print(f\"{int(h,16):X}\")\n",
    "i = 255\n",
    "print(f\"0x{i:X}\")"
   ]
  },
  {
   "cell_type": "code",
   "execution_count": 3,
   "metadata": {},
   "outputs": [
    {
     "name": "stdout",
     "output_type": "stream",
     "text": [
      "True\n"
     ]
    }
   ],
   "source": [
    "test = 0\n",
    "if not test:\n",
    "    print(True)"
   ]
  }
 ],
 "metadata": {
  "kernelspec": {
   "display_name": "venv",
   "language": "python",
   "name": "python3"
  },
  "language_info": {
   "codemirror_mode": {
    "name": "ipython",
    "version": 3
   },
   "file_extension": ".py",
   "mimetype": "text/x-python",
   "name": "python",
   "nbconvert_exporter": "python",
   "pygments_lexer": "ipython3",
   "version": "3.10.12"
  }
 },
 "nbformat": 4,
 "nbformat_minor": 2
}
