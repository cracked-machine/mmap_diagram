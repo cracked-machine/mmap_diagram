{
 "cells": [
  {
   "cell_type": "code",
   "execution_count": 5,
   "metadata": {},
   "outputs": [
    {
     "data": {
      "text/plain": [
       "4"
      ]
     },
     "execution_count": 5,
     "metadata": {},
     "output_type": "execute_result"
    }
   ],
   "source": [
    "from fractions import Fraction\n",
    "from math import floor, ceil\n",
    "\n",
    "f = Fraction(0.75)\n",
    "f.denominator\n",
    "\n",
    "\n"
   ]
  },
  {
   "cell_type": "code",
   "execution_count": 11,
   "metadata": {},
   "outputs": [
    {
     "name": "stdout",
     "output_type": "stream",
     "text": [
      "[['one', '0x10 (16)'], ['two', '0x0 (0)'], ['three', '0x50 (80)'], ['four', '0xa (10)']]\n",
      "[['two', '0x0 (0)'], ['four', '0xa (10)'], ['one', '0x10 (16)'], ['three', '0x50 (80)']]\n"
     ]
    }
   ],
   "source": [
    "col = 1\n",
    "l1 = [\"one\", \"0x10 (16)\"]\n",
    "l2 = [\"two\", \"0x0 (0)\"]\n",
    "l3 = [\"three\", \"0x50 (80)\"]\n",
    "l4 = [\"four\", \"0xa (10)\"]\n",
    "l = [l1,l2,l3,l4]\n",
    "print(l)\n",
    "l.sort(key=lambda x: int(x[col][ x[col].index('(') + 1 : x[col].index(')') ]), reverse=False)\n",
    "print(l)"
   ]
  },
  {
   "cell_type": "code",
   "execution_count": 27,
   "metadata": {},
   "outputs": [
    {
     "data": {
      "text/plain": [
       "'10'"
      ]
     },
     "execution_count": 27,
     "metadata": {},
     "output_type": "execute_result"
    }
   ],
   "source": [
    "import re\n",
    "s = \"0x0 (10)\"\n",
    "\n",
    "re.search(\"\\((.*)\\)\", s).group(0)\n",
    "re.findall(\"\\((.*)\\)\", s)[0]"
   ]
  },
  {
   "cell_type": "code",
   "execution_count": 43,
   "metadata": {},
   "outputs": [
    {
     "data": {
      "text/plain": [
       "576460752303423488"
      ]
     },
     "execution_count": 43,
     "metadata": {},
     "output_type": "execute_result"
    }
   ],
   "source": [
    "\n",
    "i = int(\"0x800000000000000\", 16)\n",
    "i"
   ]
  }
 ],
 "metadata": {
  "kernelspec": {
   "display_name": "venv",
   "language": "python",
   "name": "python3"
  },
  "language_info": {
   "codemirror_mode": {
    "name": "ipython",
    "version": 3
   },
   "file_extension": ".py",
   "mimetype": "text/x-python",
   "name": "python",
   "nbconvert_exporter": "python",
   "pygments_lexer": "ipython3",
   "version": "3.10.12"
  }
 },
 "nbformat": 4,
 "nbformat_minor": 2
}
